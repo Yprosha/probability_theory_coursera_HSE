{
 "cells": [
  {
   "cell_type": "markdown",
   "metadata": {
    "collapsed": true
   },
   "source": [
    "# Задачи кавалера де Мере"
   ]
  },
  {
   "cell_type": "markdown",
   "metadata": {},
   "source": [
    "Решим первую задачу кавалера де Мере: какова вероятность, что при 4 бросках игрального кубика хотя бы раз выпадет 6 очков?"
   ]
  },
  {
   "cell_type": "markdown",
   "metadata": {},
   "source": [
    "Посчитаем эту вероятность первым способом - зададим вероятностное пространство $\\Omega$."
   ]
  },
  {
   "cell_type": "code",
   "execution_count": 2,
   "metadata": {},
   "outputs": [
    {
     "name": "stdout",
     "output_type": "stream",
     "text": [
      "1296\n"
     ]
    }
   ],
   "source": [
    "from itertools import product\n",
    "\n",
    "n = 4\n",
    "omega = sorted(product(['1', '2', '3', '4', '5', '6'], repeat=n))\n",
    "print(len(omega))"
   ]
  },
  {
   "cell_type": "code",
   "execution_count": 3,
   "metadata": {},
   "outputs": [
    {
     "data": {
      "text/plain": [
       "True"
      ]
     },
     "execution_count": 3,
     "metadata": {},
     "output_type": "execute_result"
    }
   ],
   "source": [
    "len(omega) == 6 ** 4"
   ]
  },
  {
   "cell_type": "markdown",
   "metadata": {},
   "source": [
    "Как видим, $|\\Omega| = 1296 = 6^4$, поскольку на каждый из 4 бросков есть ровно 6 вариантов результата (число выпавших очков варьируется от 1 до 6)."
   ]
  },
  {
   "cell_type": "code",
   "execution_count": 4,
   "metadata": {},
   "outputs": [
    {
     "data": {
      "text/plain": [
       "[('1', '1', '1', '1'),\n",
       " ('1', '1', '1', '2'),\n",
       " ('1', '1', '1', '3'),\n",
       " ('1', '1', '1', '4'),\n",
       " ('1', '1', '1', '5'),\n",
       " ('1', '1', '1', '6'),\n",
       " ('1', '1', '2', '1'),\n",
       " ('1', '1', '2', '2'),\n",
       " ('1', '1', '2', '3'),\n",
       " ('1', '1', '2', '4'),\n",
       " ('1', '1', '2', '5'),\n",
       " ('1', '1', '2', '6'),\n",
       " ('1', '1', '3', '1'),\n",
       " ('1', '1', '3', '2'),\n",
       " ('1', '1', '3', '3')]"
      ]
     },
     "execution_count": 4,
     "metadata": {},
     "output_type": "execute_result"
    }
   ],
   "source": [
    "omega[:15]"
   ]
  },
  {
   "cell_type": "markdown",
   "metadata": {},
   "source": [
    "Определим нужное нам событие  $A$"
   ]
  },
  {
   "cell_type": "code",
   "execution_count": 5,
   "metadata": {},
   "outputs": [
    {
     "data": {
      "text/plain": [
       "[('1', '1', '1', '6'),\n",
       " ('1', '1', '2', '6'),\n",
       " ('1', '1', '3', '6'),\n",
       " ('1', '1', '4', '6'),\n",
       " ('1', '1', '5', '6'),\n",
       " ('1', '1', '6', '1'),\n",
       " ('1', '1', '6', '2'),\n",
       " ('1', '1', '6', '3'),\n",
       " ('1', '1', '6', '4'),\n",
       " ('1', '1', '6', '5'),\n",
       " ('1', '1', '6', '6'),\n",
       " ('1', '2', '1', '6'),\n",
       " ('1', '2', '2', '6'),\n",
       " ('1', '2', '3', '6'),\n",
       " ('1', '2', '4', '6')]"
      ]
     },
     "execution_count": 5,
     "metadata": {},
     "output_type": "execute_result"
    }
   ],
   "source": [
    "A = sorted({i for i in omega if i.count('6') >= 1})\n",
    "A[:15]"
   ]
  },
  {
   "cell_type": "markdown",
   "metadata": {},
   "source": [
    "Определим теперь функцию подсчета вероятности события $X$ при данном вероятностном пространстве."
   ]
  },
  {
   "cell_type": "code",
   "execution_count": 6,
   "metadata": {},
   "outputs": [],
   "source": [
    "def prob(X): \n",
    "    return len(X)/len(omega)"
   ]
  },
  {
   "cell_type": "code",
   "execution_count": 7,
   "metadata": {},
   "outputs": [
    {
     "name": "stdout",
     "output_type": "stream",
     "text": [
      "0.5177469135802469\n"
     ]
    }
   ],
   "source": [
    "print(prob(A))"
   ]
  },
  {
   "cell_type": "markdown",
   "metadata": {},
   "source": [
    "Теперь посчитаем вероятность этого же события другим способом - через вероятность его дополнения $B=A^c$."
   ]
  },
  {
   "cell_type": "code",
   "execution_count": 8,
   "metadata": {},
   "outputs": [
    {
     "data": {
      "text/plain": [
       "[('1', '1', '1', '1'),\n",
       " ('1', '1', '1', '2'),\n",
       " ('1', '1', '1', '3'),\n",
       " ('1', '1', '1', '4'),\n",
       " ('1', '1', '1', '5'),\n",
       " ('1', '1', '2', '1'),\n",
       " ('1', '1', '2', '2'),\n",
       " ('1', '1', '2', '3'),\n",
       " ('1', '1', '2', '4'),\n",
       " ('1', '1', '2', '5'),\n",
       " ('1', '1', '3', '1'),\n",
       " ('1', '1', '3', '2'),\n",
       " ('1', '1', '3', '3'),\n",
       " ('1', '1', '3', '4'),\n",
       " ('1', '1', '3', '5')]"
      ]
     },
     "execution_count": 8,
     "metadata": {},
     "output_type": "execute_result"
    }
   ],
   "source": [
    "B = sorted({i for i in omega if i.count('6') == 0})\n",
    "B[:15]"
   ]
  },
  {
   "cell_type": "code",
   "execution_count": 9,
   "metadata": {},
   "outputs": [
    {
     "name": "stdout",
     "output_type": "stream",
     "text": [
      "0.5177469135802469\n"
     ]
    }
   ],
   "source": [
    "print(1 - prob(B))"
   ]
  },
  {
   "cell_type": "markdown",
   "metadata": {},
   "source": [
    "Вероятость события $B$ легко посчитать и вручную: для каждого исхода события $B$ на каждый из его 4 бросков есть ровно 5 вариантов (число выпавших очков варьируется от 1 до 5). Значит, $|B| = 5^4$. Следовательно, $|A| = 6^4 - 5^4$."
   ]
  },
  {
   "cell_type": "code",
   "execution_count": 10,
   "metadata": {},
   "outputs": [
    {
     "name": "stdout",
     "output_type": "stream",
     "text": [
      "0.5177469135802469\n"
     ]
    }
   ],
   "source": [
    "p = (6**4 - 5**4) / (6**4)\n",
    "print(p)"
   ]
  },
  {
   "cell_type": "code",
   "execution_count": 11,
   "metadata": {},
   "outputs": [
    {
     "data": {
      "text/plain": [
       "True"
      ]
     },
     "execution_count": 11,
     "metadata": {},
     "output_type": "execute_result"
    }
   ],
   "source": [
    "prob(A) == 1 - prob(B) == p"
   ]
  },
  {
   "cell_type": "markdown",
   "metadata": {},
   "source": [
    "Итак, найденная вероятность превосходит 50%, поэтому при большом количестве игр кавалер де Мере будет в выигрыше."
   ]
  },
  {
   "cell_type": "markdown",
   "metadata": {},
   "source": [
    "Перейдем ко второй задаче кавалера де Мере: какова вероятность, что при 24 бросках пары игральных кубиков хотя бы раз выпадет 12 очков (то есть выпадут две шестерки)? Посмотрим, сколько исходов возникает при броске пары кубиков."
   ]
  },
  {
   "cell_type": "code",
   "execution_count": 13,
   "metadata": {},
   "outputs": [
    {
     "data": {
      "text/plain": [
       "22452257707354557240087211123792674816"
      ]
     },
     "execution_count": 13,
     "metadata": {},
     "output_type": "execute_result"
    }
   ],
   "source": [
    "omega = set(product(['1', '2', '3', '4', '5', '6'], repeat=2))\n",
    "omega"
   ]
  },
  {
   "cell_type": "code",
   "execution_count": 14,
   "metadata": {},
   "outputs": [
    {
     "name": "stdout",
     "output_type": "stream",
     "text": [
      "36\n"
     ]
    }
   ],
   "source": [
    "print(len(omega))"
   ]
  },
  {
   "cell_type": "markdown",
   "metadata": {},
   "source": [
    "Проще всего посчитать данную вероятность аналитически, через вероятность дополнения данного события. В каждом исходе из дополнения могут реализоваться все исходы, кроме выпадения двух шестерок, то есть 35 вариантов из 36. Поскольку бросков 24, вероятность дополнения нашего события равна $(\\frac{35}{36})^{24}$."
   ]
  },
  {
   "cell_type": "code",
   "execution_count": 19,
   "metadata": {},
   "outputs": [
    {
     "name": "stdout",
     "output_type": "stream",
     "text": [
      "0.4914038761309034\n"
     ]
    }
   ],
   "source": [
    "r = 1 - (35 / 36) ** 24\n",
    "print(r)"
   ]
  },
  {
   "cell_type": "markdown",
   "metadata": {},
   "source": [
    "Как видим, найденная вероятность меньше 50%, поэтому при большом количестве игр кавалер де Мере будет в проигрыше."
   ]
  }
 ],
 "metadata": {
  "kernelspec": {
   "display_name": "Python 3",
   "language": "python",
   "name": "python3"
  },
  "language_info": {
   "codemirror_mode": {
    "name": "ipython",
    "version": 3
   },
   "file_extension": ".py",
   "mimetype": "text/x-python",
   "name": "python",
   "nbconvert_exporter": "python",
   "pygments_lexer": "ipython3",
   "version": "3.7.6"
  }
 },
 "nbformat": 4,
 "nbformat_minor": 2
}
